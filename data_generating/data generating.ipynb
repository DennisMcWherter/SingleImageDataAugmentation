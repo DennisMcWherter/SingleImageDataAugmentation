{
 "cells": [
  {
   "cell_type": "code",
   "execution_count": 1,
   "metadata": {},
   "outputs": [],
   "source": [
    "from cifar10_web import cifar10\n",
    "import numpy as np"
   ]
  },
  {
   "cell_type": "markdown",
   "metadata": {},
   "source": [
    "# Generating"
   ]
  },
  {
   "cell_type": "code",
   "execution_count": 2,
   "metadata": {},
   "outputs": [],
   "source": [
    "X_train, y_train, X_test, y_test = cifar10(path=None)\n",
    "X_train = X_train.reshape(50000,3,32,32).transpose(0,2,3,1)\n",
    "#X_train /= X_train.max()\n",
    "X_test = X_train.reshape(50000,3,32,32).transpose(0,2,3,1)\n",
    "#X_test /= X_train.max()\n",
    "y_train = np.array([np.argmax(a, axis=0) for a in y_train])\n",
    "y_test = np.array([np.argmax(a, axis=0) for a in y_test])"
   ]
  },
  {
   "cell_type": "markdown",
   "metadata": {},
   "source": [
    "# Class Selection"
   ]
  },
  {
   "cell_type": "code",
   "execution_count": 3,
   "metadata": {
    "scrolled": true
   },
   "outputs": [
    {
     "data": {
      "text/plain": [
       "array([4, 8, 6])"
      ]
     },
     "execution_count": 3,
     "metadata": {},
     "output_type": "execute_result"
    }
   ],
   "source": [
    "np.random.randint(low = 0, high = 10, size = 3)"
   ]
  },
  {
   "cell_type": "markdown",
   "metadata": {},
   "source": [
    "# index_selection"
   ]
  },
  {
   "cell_type": "code",
   "execution_count": 4,
   "metadata": {},
   "outputs": [],
   "source": [
    "drop_ratio = [0.4, 0.75, 0.9]\n",
    "X_train_selected = [X_train[y_train == label] for label in [5,7,4]]"
   ]
  },
  {
   "cell_type": "code",
   "execution_count": 5,
   "metadata": {},
   "outputs": [],
   "source": [
    "def sample_index(labelled_data, drop_ratio):\n",
    "    return np.random.choice(labelled_data.shape[0], int(np.ceil(labelled_data.shape[0]*(1 - drop_ratio))), replace=False)"
   ]
  },
  {
   "cell_type": "code",
   "execution_count": 6,
   "metadata": {
    "scrolled": true
   },
   "outputs": [],
   "source": [
    "indexes = [sample_index(class_, dr) for dr in drop_ratio for class_ in X_train_selected]"
   ]
  },
  {
   "cell_type": "code",
   "execution_count": 7,
   "metadata": {},
   "outputs": [],
   "source": [
    "np.savez(\"selected_index.npz\", indexes)"
   ]
  },
  {
   "cell_type": "markdown",
   "metadata": {},
   "source": [
    "# Read"
   ]
  },
  {
   "cell_type": "code",
   "execution_count": 2,
   "metadata": {},
   "outputs": [],
   "source": [
    "npzfile = np.load(\"selected_index.npz\", allow_pickle = True)\n",
    "indexes = npzfile[\"arr_0\"]"
   ]
  },
  {
   "cell_type": "code",
   "execution_count": 3,
   "metadata": {
    "scrolled": true
   },
   "outputs": [],
   "source": [
    "def get_indexes(index_list, label: int = 5, drop_ratio: float = 0.4):\n",
    "    assert(label in [5,7,4])\n",
    "    assert(drop_ratio in [0.4, 0.75, 0.9])\n",
    "    \n",
    "    label_list = dict(zip([5,7,4],range(3)))\n",
    "    drop_ratio_list = dict(zip([0.4, 0.75, 0.9],range(3)))\n",
    "    return index_list[label_list[label]+3*drop_ratio_list[drop_ratio]]"
   ]
  },
  {
   "cell_type": "code",
   "execution_count": 4,
   "metadata": {},
   "outputs": [
    {
     "data": {
      "text/plain": [
       "array([1191, 2238, 4575, 1971, 4113, 2724,  194, 1256, 3204, 1618, 4816,\n",
       "       3451, 3297, 1790, 1110, 1918, 2382, 3609, 3986, 1135, 4444, 4404,\n",
       "       4215, 1490,  146, 3004, 4446, 1035, 2793, 1247, 1128, 3483,  150,\n",
       "       3386, 4482, 3958, 1549, 2133, 4070, 3978,  214, 4032,  147, 4085,\n",
       "       1678, 1258,  394, 2554, 4366, 4319, 4186, 3465, 1194, 3872, 1719,\n",
       "       1186, 3618, 1267, 1957, 3804,  156, 2189, 2304, 3154, 4121,  794,\n",
       "       3942, 4586, 1915, 4063, 2545, 2534, 4570, 3317,  776, 2163, 2540,\n",
       "       1348, 1663, 4381, 2706, 2725, 4177,  885,  772, 3066, 2801, 3289,\n",
       "       4164, 4241, 3644, 1450, 1465, 4493, 1641, 4507, 4696, 4536, 1778,\n",
       "        878, 4693, 2641,  759, 2174, 2030, 2291, 3371, 4846, 4453, 2292,\n",
       "       1355, 1369, 1706,  882, 2073, 4228, 2620, 1196, 4564, 1968, 4771,\n",
       "       4567, 2096, 3721,  192, 2442, 3832, 4542,  274, 3069, 4491, 3130,\n",
       "       1082, 1653, 4235, 3918, 1211, 1040,  654, 3515,  902, 2828, 4464,\n",
       "        119, 2950, 2439,  500,  615,  190, 2003, 1797,  387, 3598, 4120,\n",
       "        563, 2737, 3021, 1959, 4136, 3018, 4271, 1570, 2644, 4417, 1635,\n",
       "        207, 2458, 3720, 1301, 3568, 2026, 2147, 1998, 3121,   53, 3249,\n",
       "       2425, 1708,  827, 1569, 3236,   34, 1156, 1700, 1598, 2409,  503,\n",
       "       4668, 1525,  559, 3901, 2331, 2046, 2537, 4700, 4852, 2119, 1841,\n",
       "       3053, 4568, 4376, 4850, 3357, 3147, 4057, 2983, 1548,  416, 2956,\n",
       "       1038, 1091, 3238, 4258,   95, 4817, 1380, 1508, 4739, 4937,  493,\n",
       "       4221, 1392, 2755, 2475, 2661, 3895, 2157, 1153,   44, 2378,  997,\n",
       "       2443, 2308,  584, 4759, 3753, 4142, 4854,  560,  202, 1000, 1376,\n",
       "       2814, 2271, 1496, 4280, 1215,  807, 4145, 1223, 1684, 2788, 4786,\n",
       "         66, 2036, 4594, 2282, 3027, 3882, 3029,  820, 1114,  188, 4649,\n",
       "       1271, 4823, 2339, 2154, 3325, 3437, 2802, 3835, 4797, 4449, 2349,\n",
       "       2834,  308,  934, 2497, 3040, 2072, 3350, 4703,  343,  328, 4196,\n",
       "       4162, 4152, 2203, 4092, 1006,  136, 2532, 1446, 1559, 1050,  590,\n",
       "       1430, 1537, 3489, 2007, 3372,  498, 3100, 1396, 3366, 3747,  358,\n",
       "       1471, 1354, 3205, 1421, 4343,  131, 3502, 2571, 1576, 3276, 2515,\n",
       "       2574, 2020, 4183, 1787, 3909,  816, 1942, 3731, 4837, 4253, 3292,\n",
       "       1521, 2246, 2070, 3632, 3008, 2669, 2460, 1439, 2776,   46, 3282,\n",
       "       2400, 3661, 2367, 3569, 1026,  973, 2849,  338, 3037, 2752, 3326,\n",
       "       4776, 3267, 3334, 4197, 2837,  353, 2248, 1773, 1996,  977, 3250,\n",
       "       4857, 4260, 4390, 1617, 4299, 2243,  208, 3874,  553, 1835, 3003,\n",
       "       3749, 4083, 2201, 3584, 1917, 1595, 2673, 1443,  515, 4035, 3545,\n",
       "       4538, 1100,  872, 1638, 2450, 1205,  527, 3578, 4831,  909, 4234,\n",
       "        404, 3246, 1189, 3360, 3233,  357, 3312, 4579, 1140,  594, 3506,\n",
       "       2867, 3041, 4969, 3127, 3911, 4436, 1461, 3430,  137, 2533, 3701,\n",
       "       1244, 1799, 3628, 2631, 4706,  327, 3971, 2549, 1453, 2743, 3272,\n",
       "       1660, 1482, 3107, 4165, 3995, 2486, 1604,   37,  845,  582, 4509,\n",
       "       3199,  742,  838, 4069, 2586, 4427, 4133, 2449, 1433, 4872, 4325,\n",
       "       3254, 1487,  432, 2161,  609, 3810, 4950,  646,  573, 1071, 3854,\n",
       "        605, 1432, 3494, 3790,  402, 4370, 2947, 4839, 4762, 1868, 1601,\n",
       "        172, 3601, 2332,  651, 1779, 3078, 3352, 2198, 4076, 2433, 3259,\n",
       "       4788, 2170, 4314, 3648, 3653, 4324, 2279,  142, 1313, 1717,  857,\n",
       "       3834, 2517, 4225,  611, 2220])"
      ]
     },
     "execution_count": 4,
     "metadata": {},
     "output_type": "execute_result"
    }
   ],
   "source": [
    "get_indexes(indexes, label = 4, drop_ratio = 0.9)"
   ]
  },
  {
   "cell_type": "code",
   "execution_count": null,
   "metadata": {},
   "outputs": [],
   "source": []
  }
 ],
 "metadata": {
  "kernelspec": {
   "display_name": "Python 3",
   "language": "python",
   "name": "python3"
  },
  "language_info": {
   "codemirror_mode": {
    "name": "ipython",
    "version": 3
   },
   "file_extension": ".py",
   "mimetype": "text/x-python",
   "name": "python",
   "nbconvert_exporter": "python",
   "pygments_lexer": "ipython3",
   "version": "3.7.3"
  }
 },
 "nbformat": 4,
 "nbformat_minor": 2
}
