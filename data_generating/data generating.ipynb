{
 "cells": [
  {
   "cell_type": "code",
   "execution_count": 5,
   "metadata": {},
   "outputs": [],
   "source": [
    "from cifar10_web import cifar10\n",
    "import numpy as np"
   ]
  },
  {
   "cell_type": "markdown",
   "metadata": {},
   "source": [
    "# Generating"
   ]
  },
  {
   "cell_type": "code",
   "execution_count": null,
   "metadata": {},
   "outputs": [],
   "source": [
    "X_train, y_train, X_test, y_test = cifar10(path=None)\n",
    "X_train = X_train.reshape(50000,3,32,32).transpose(0,2,3,1)\n",
    "#X_train /= X_train.max()\n",
    "X_test = X_train.reshape(50000,3,32,32).transpose(0,2,3,1)\n",
    "#X_test /= X_train.max()\n",
    "y_train = np.array([np.argmax(a, axis=0) for a in y_train])\n",
    "y_test = np.array([np.argmax(a, axis=0) for a in y_test])"
   ]
  },
  {
   "cell_type": "markdown",
   "metadata": {},
   "source": [
    "# index_selection"
   ]
  },
  {
   "cell_type": "code",
   "execution_count": null,
   "metadata": {},
   "outputs": [],
   "source": [
    "drop_ratio = [0.4, 0.75, 0.9]\n",
    "X_train_selected = [X_train[y_train == label] for label in [5,7,4]]"
   ]
  },
  {
   "cell_type": "code",
   "execution_count": null,
   "metadata": {},
   "outputs": [],
   "source": [
    "def sample_index(labelled_data, drop_ratio):\n",
    "    return np.random.choice(labelled_data.shape[0], int(np.ceil(labelled_data.shape[0]*(1 - drop_ratio))), replace=False)"
   ]
  },
  {
   "cell_type": "code",
   "execution_count": null,
   "metadata": {
    "scrolled": true
   },
   "outputs": [],
   "source": [
    "indexes = [sample_index(class_, dr) for dr in drop_ratio for class_ in X_train_selected]"
   ]
  },
  {
   "cell_type": "code",
   "execution_count": null,
   "metadata": {},
   "outputs": [],
   "source": [
    "np.savez(\"selected_index.npz\", indexes)"
   ]
  },
  {
   "cell_type": "markdown",
   "metadata": {},
   "source": [
    "# Read"
   ]
  },
  {
   "cell_type": "code",
   "execution_count": 6,
   "metadata": {
    "scrolled": true
   },
   "outputs": [],
   "source": [
    "def get_indexes(index_list, label: int = 5, drop_ratio: float = 0.4):\n",
    "    \n",
    "    label_list = dict(zip([5,7,4],range(3)))\n",
    "    drop_ratio_list = dict(zip([0.4, 0.75, 0.9],range(3)))\n",
    "    \n",
    "    return index_list[label_list[label]+3*drop_ratio_list[drop_ratio]]"
   ]
  },
  {
   "cell_type": "code",
   "execution_count": 7,
   "metadata": {},
   "outputs": [],
   "source": [
    "def get_imbalanced_dataset(label: int = 5, drop_ratio: float = 0.4, return_one_hot_y: bool = False):\n",
    "    assert(label in [5,7,4])\n",
    "    assert(drop_ratio in [0.4, 0.75, 0.9])\n",
    "    \n",
    "    npzfile = np.load(\"selected_index.npz\", allow_pickle = True)\n",
    "    indexes = npzfile[\"arr_0\"]\n",
    "    X_train, y_train, X_test, y_test = cifar10(path=None)\n",
    "    \n",
    "    X_train = X_train.reshape(-1,3,32,32).transpose(0,2,3,1)\n",
    "    X_test = X_test.reshape(-1,3,32,32).transpose(0,2,3,1)\n",
    "    \n",
    "    y_train_ = y_train\n",
    "    y_test_ = y_test\n",
    "    y_train = np.array([np.argmax(a, axis=0) for a in y_train])\n",
    "    y_test = np.array([np.argmax(a, axis=0) for a in y_test])\n",
    "    \n",
    "    label_index = np.where(y_train == label)[0]\n",
    "    sample_index = get_indexes(indexes, label = label, drop_ratio = drop_ratio)\n",
    "    deleted_index = np.delete(label_index, sample_index)\n",
    "    \n",
    "    X_train = np.delete(X_train, deleted_index, 0)\n",
    "    if return_one_hot_y == True:\n",
    "        y_train_return = np.delete(y_train_, deleted_index, 0)\n",
    "        y_test_return = y_test_\n",
    "    else:\n",
    "        y_train_return = np.delete(y_train, deleted_index, 0)\n",
    "        y_test_return = y_test\n",
    "    \n",
    "    return X_train, y_train_return, X_test, y_test_return"
   ]
  },
  {
   "cell_type": "code",
   "execution_count": 8,
   "metadata": {},
   "outputs": [
    {
     "name": "stdout",
     "output_type": "stream",
     "text": [
      "shape:  (45500, 32, 32, 3) (45500, 10) (10000, 32, 32, 3) (10000, 10)\n",
      "y = 5:  500\n",
      "y = 7:  5000\n"
     ]
    }
   ],
   "source": [
    "X_train, y_train, X_test, y_test = get_imbalanced_dataset(label = 5, drop_ratio = 0.9, return_one_hot_y = True)\n",
    "print(\"shape: \", X_train.shape, y_train.shape, X_test.shape, y_test.shape)\n",
    "print(\"y = 5: \", np.sum(np.array([np.argmax(a, axis=0) for a in y_train]) == 5))\n",
    "print(\"y = 7: \", np.sum(np.array([np.argmax(a, axis=0) for a in y_train]) == 7))"
   ]
  },
  {
   "cell_type": "code",
   "execution_count": 9,
   "metadata": {},
   "outputs": [
    {
     "name": "stdout",
     "output_type": "stream",
     "text": [
      "shape:  (46250, 32, 32, 3) (46250,) (10000, 32, 32, 3) (10000,)\n",
      "y = 5:  5000\n",
      "y = 7:  1250\n"
     ]
    }
   ],
   "source": [
    "X_train, y_train, X_test, y_test = get_imbalanced_dataset(label = 7, drop_ratio = 0.75, return_one_hot_y = False)\n",
    "print(\"shape: \", X_train.shape, y_train.shape, X_test.shape, y_test.shape)\n",
    "print(\"y = 5: \", np.sum(y_train == 5))\n",
    "print(\"y = 7: \",np.sum(y_train == 7))"
   ]
  },
  {
   "cell_type": "code",
   "execution_count": null,
   "metadata": {},
   "outputs": [],
   "source": []
  }
 ],
 "metadata": {
  "kernelspec": {
   "display_name": "Python 3",
   "language": "python",
   "name": "python3"
  },
  "language_info": {
   "codemirror_mode": {
    "name": "ipython",
    "version": 3
   },
   "file_extension": ".py",
   "mimetype": "text/x-python",
   "name": "python",
   "nbconvert_exporter": "python",
   "pygments_lexer": "ipython3",
   "version": "3.7.3"
  }
 },
 "nbformat": 4,
 "nbformat_minor": 2
}
