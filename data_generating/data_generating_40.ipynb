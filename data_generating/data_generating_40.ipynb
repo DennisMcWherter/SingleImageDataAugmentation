{
 "cells": [
  {
   "cell_type": "markdown",
   "metadata": {},
   "source": [
    "# Generating"
   ]
  },
  {
   "cell_type": "code",
   "execution_count": 2,
   "metadata": {},
   "outputs": [],
   "source": [
    "from cifar10_web import cifar10\n",
    "import numpy as np\n",
    "\n",
    "X_train, y_train, X_test, y_test = cifar10(path=None)\n",
    "X_train = X_train.reshape(50000,3,32,32).transpose(0,2,3,1)\n",
    "#X_train /= X_train.max()\n",
    "X_test = X_train.reshape(50000,3,32,32).transpose(0,2,3,1)\n",
    "#X_test /= X_train.max()\n",
    "y_train = np.array([np.argmax(a, axis=0) for a in y_train])\n",
    "y_test = np.array([np.argmax(a, axis=0) for a in y_test])"
   ]
  },
  {
   "cell_type": "markdown",
   "metadata": {},
   "source": [
    "# index_selection"
   ]
  },
  {
   "cell_type": "code",
   "execution_count": 3,
   "metadata": {},
   "outputs": [],
   "source": [
    "drop_ratio = [0.4, 0.6, 0.75, 0.9]\n",
    "X_train_selected = [X_train[y_train == label] for label in range(10)]"
   ]
  },
  {
   "cell_type": "code",
   "execution_count": 4,
   "metadata": {},
   "outputs": [],
   "source": [
    "def sample_index(labelled_data, drop_ratio):\n",
    "    return np.random.choice(labelled_data.shape[0], int(np.ceil(labelled_data.shape[0]*(1 - drop_ratio))), replace=False)"
   ]
  },
  {
   "cell_type": "code",
   "execution_count": 5,
   "metadata": {
    "scrolled": true
   },
   "outputs": [],
   "source": [
    "indexes = [sample_index(class_, dr) for dr in drop_ratio for class_ in X_train_selected]"
   ]
  },
  {
   "cell_type": "code",
   "execution_count": 6,
   "metadata": {},
   "outputs": [],
   "source": [
    "np.savez(\"selected_index_40.npz\", indexes)"
   ]
  },
  {
   "cell_type": "markdown",
   "metadata": {},
   "source": [
    "# Read"
   ]
  },
  {
   "cell_type": "code",
   "execution_count": 7,
   "metadata": {},
   "outputs": [],
   "source": [
    "from cifar10_web import cifar10\n",
    "import numpy as np\n",
    "\n",
    "def get_indexes(index_list, label: int = 5, drop_ratio: float = 0.4):\n",
    "\n",
    "    drop_ratio_list = dict(zip([0.4, 0.6, 0.75, 0.9],range(4)))\n",
    "    \n",
    "    return index_list[label+10*drop_ratio_list[drop_ratio]]\n",
    "\n",
    "def get_cifar_10(return_one_hot_y: bool = False):\n",
    "    \n",
    "    X_train, y_train, X_test, y_test = cifar10(path=None)\n",
    "    \n",
    "    X_train = X_train.reshape(-1,3,32,32).transpose(0,2,3,1)\n",
    "    X_test = X_test.reshape(-1,3,32,32).transpose(0,2,3,1)\n",
    "        \n",
    "    if return_one_hot_y == False:\n",
    "        y_train = np.array([np.argmax(a, axis=0) for a in y_train])\n",
    "        y_test = np.array([np.argmax(a, axis=0) for a in y_test])\n",
    "        \n",
    "    return X_train, y_train, X_test, y_test\n",
    "\n",
    "def get_imbalanced_dataset(X_train, y_train, label: int = 5, drop_ratio: float = 0.4):\n",
    "    \n",
    "    assert(drop_ratio in [0.4, 0.6, 0.75, 0.9])\n",
    "    \n",
    "    npzfile = np.load(\"selected_index_40.npz\", allow_pickle = True)\n",
    "    indexes = npzfile[\"arr_0\"]\n",
    "    \n",
    "    if y_train.ndim == 2:\n",
    "        y_train_ = np.array([np.argmax(a, axis=0) for a in y_train])\n",
    "    else:\n",
    "        y_train_ = y_train\n",
    "        \n",
    "    label_index = np.where(y_train_ == label)[0]\n",
    "    sample_index = get_indexes(indexes, label = label, drop_ratio = drop_ratio)\n",
    "    deleted_index = np.delete(label_index, sample_index)\n",
    "    \n",
    "    X_imbalanced = np.delete(X_train, deleted_index, 0)\n",
    "    y_imbalanced = np.delete(y_train, deleted_index, 0)\n",
    "    \n",
    "    X_deleted = X_train[deleted_index]\n",
    "    y_deleted = y_train[deleted_index]\n",
    "    return X_imbalanced, y_imbalanced, X_deleted, y_deleted"
   ]
  },
  {
   "cell_type": "code",
   "execution_count": 8,
   "metadata": {},
   "outputs": [
    {
     "name": "stdout",
     "output_type": "stream",
     "text": [
      "shape:  (50000, 32, 32, 3) (50000,) (10000, 32, 32, 3) (10000,)\n",
      "shape after imbalanced:  (45500, 32, 32, 3) (45500,) (4500, 32, 32, 3) (4500,)\n",
      "y = 3:  5000\n",
      "y = 7:  5000\n",
      "y = 3 after imbalanced:  500\n",
      "y = 7 after imbalanced:  5000\n"
     ]
    }
   ],
   "source": [
    "X_train, y_train, X_test, y_test = get_cifar_10()\n",
    "print(\"shape: \", X_train.shape, y_train.shape, X_test.shape, y_test.shape)\n",
    "\n",
    "X_train_imbalanced ,y_train_imbalanced, X_deleted, y_deleted= get_imbalanced_dataset(X_train, y_train, label = 3, drop_ratio= 0.9)\n",
    "print(\"shape after imbalanced: \", X_train_imbalanced.shape,y_train_imbalanced.shape,X_deleted.shape, y_deleted.shape)\n",
    "print(\"y = 3: \", np.sum(y_train == 3))\n",
    "print(\"y = 7: \",np.sum(y_train == 7))\n",
    "print(\"y = 3 after imbalanced: \", np.sum(y_train_imbalanced == 3))\n",
    "print(\"y = 7 after imbalanced: \",np.sum(y_train_imbalanced == 7))"
   ]
  },
  {
   "cell_type": "code",
   "execution_count": 9,
   "metadata": {},
   "outputs": [
    {
     "name": "stdout",
     "output_type": "stream",
     "text": [
      "shape:  (50000, 32, 32, 3) (50000,) (10000, 32, 32, 3) (10000,)\n",
      "shape after imbalanced:  (46250, 32, 32, 3) (46250,) (3750, 32, 32, 3) (3750,)\n",
      "y = 3:  5000\n",
      "y = 9:  5000\n",
      "y = 3 after imbalanced:  5000\n",
      "y = 9 after imbalanced:  1250\n"
     ]
    }
   ],
   "source": [
    "X_train, y_train, X_test, y_test = get_cifar_10()\n",
    "print(\"shape: \", X_train.shape, y_train.shape, X_test.shape, y_test.shape)\n",
    "\n",
    "X_train_imbalanced ,y_train_imbalanced, X_deleted, y_deleted= get_imbalanced_dataset(X_train, y_train, label = 9, drop_ratio= 0.75)\n",
    "print(\"shape after imbalanced: \", X_train_imbalanced.shape,y_train_imbalanced.shape,X_deleted.shape, y_deleted.shape)\n",
    "print(\"y = 3: \", np.sum(y_train == 3))\n",
    "print(\"y = 9: \",np.sum(y_train == 9))\n",
    "print(\"y = 3 after imbalanced: \", np.sum(y_train_imbalanced == 3))\n",
    "print(\"y = 9 after imbalanced: \",np.sum(y_train_imbalanced == 9))"
   ]
  },
  {
   "cell_type": "code",
   "execution_count": null,
   "metadata": {},
   "outputs": [],
   "source": []
  }
 ],
 "metadata": {
  "kernelspec": {
   "display_name": "Python 3",
   "language": "python",
   "name": "python3"
  },
  "language_info": {
   "codemirror_mode": {
    "name": "ipython",
    "version": 3
   },
   "file_extension": ".py",
   "mimetype": "text/x-python",
   "name": "python",
   "nbconvert_exporter": "python",
   "pygments_lexer": "ipython3",
   "version": "3.7.3"
  }
 },
 "nbformat": 4,
 "nbformat_minor": 2
}
